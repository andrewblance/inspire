{
 "cells": [
  {
   "cell_type": "code",
   "execution_count": 1,
   "metadata": {},
   "outputs": [],
   "source": [
    "from __future__ import division\n",
    "import numpy as np\n",
    "import nltk\n",
    "import pickle\n",
    "from scipy import sparse\n",
    "from scipy.sparse import csr_matrix\n",
    "from sklearn import model_selection\n",
    "from sklearn.linear_model import SGDClassifier #stochastic gradient descent\n",
    "from sklearn.model_selection import GridSearchCV\n",
    "from sklearn.pipeline import Pipeline\n",
    "from sklearn.naive_bayes import MultinomialNB\n",
    "from sklearn.feature_extraction.text import TfidfTransformer\n",
    "from sklearn.metrics import classification_report\n",
    "from sklearn.model_selection import GridSearchCV\n",
    "from sklearn.linear_model import SGDClassifier"
   ]
  },
  {
   "cell_type": "code",
   "execution_count": 2,
   "metadata": {},
   "outputs": [],
   "source": [
    "binary=sparse.load_npz('bag_of_keys_big.npz')\n",
    "freq=sparse.load_npz('bag_of_keys_freq_big.npz')"
   ]
  },
  {
   "cell_type": "code",
   "execution_count": null,
   "metadata": {},
   "outputs": [],
   "source": []
  },
  {
   "cell_type": "code",
   "execution_count": 3,
   "metadata": {},
   "outputs": [],
   "source": [
    "with open('/Users/parisa/Documents/inspires_project/inspire/keyword_occurancesBIG.pkl','rb') as f:\n",
    "    mydata= np.asarray(pickle.load(f))\n",
    "target=mydata[:,10]\n",
    "#blank=[]\n",
    "#for i in range(len(target)):\n",
    "#    if target[i]=='':\n",
    "#        blank.append(i)\n",
    "    \n",
    "X=sparse.csr_matrix.todense(binary)\n",
    "#X_counts=np.delete(X,blank,axis=0)\n",
    "#Y=np.delete(target,blank).astype(np.float)\n",
    "#print (len(target))"
   ]
  },
  {
   "cell_type": "code",
   "execution_count": 4,
   "metadata": {},
   "outputs": [],
   "source": [
    "X_train, X_test, y_train, y_test = model_selection.train_test_split(X, target, test_size=0.3,random_state=42,shuffle=True)"
   ]
  },
  {
   "cell_type": "code",
   "execution_count": null,
   "metadata": {},
   "outputs": [],
   "source": [
    "#def blank(stream):\n",
    "   # for i,classes in enumerate(stream):\n",
    "   #     if classes=='': \n",
    "   #         yield i\n",
    "            \n",
    "\n",
    "#print (len(np.delete(X,list(blank(target)),axis=0)))"
   ]
  },
  {
   "cell_type": "code",
   "execution_count": null,
   "metadata": {},
   "outputs": [],
   "source": []
  },
  {
   "cell_type": "code",
   "execution_count": null,
   "metadata": {},
   "outputs": [],
   "source": [
    "clf_NB=MultinomialNB().fit(X_train,y_train)\n",
    "score_NB=clf_NB.score(X_test,y_test)\n",
    "#kfold = model_selection.KFold(n_splits=2, random_state=42)\n",
    "#cv_results = model_selection.cross_val_score(MultinomialNB(), X_counts_train, Y_train, cv=kfold, scoring='accuracy')\n",
    "print (score_NB)"
   ]
  },
  {
   "cell_type": "code",
   "execution_count": null,
   "metadata": {},
   "outputs": [],
   "source": [
    "pred_NB=clf_NB.predict(X_test)"
   ]
  },
  {
   "cell_type": "code",
   "execution_count": null,
   "metadata": {},
   "outputs": [],
   "source": [
    "from sklearn.linear_model import SGDClassifier\n",
    "\n",
    "#score_SGD=clf_SGD.score(X_test,y_test,)\n",
    "#print (score_SGD)"
   ]
  },
  {
   "cell_type": "code",
   "execution_count": null,
   "metadata": {},
   "outputs": [],
   "source": []
  },
  {
   "cell_type": "code",
   "execution_count": null,
   "metadata": {},
   "outputs": [],
   "source": [
    "from sklearn.metrics import classification_report\n",
    "from sklearn.model_selection import GridSearchCV\n",
    "from sklearn.linear_model import SGDClassifier\n",
    "\n",
    "parameters={#'loss':('hinge','log','squared_hinge'),\n",
    "            #'penalty':('l2','elasticnet'),\n",
    "            #'learning_rate':('')\n",
    "            #'eta0':(0.0001,0.001)\n",
    "}\n",
    "\n",
    "#scores=['precision','recall']\n",
    "SGD_grid=GridSearchCV(SGDClassifier(max_iter=10,class_weight='balanced'),parameters,cv=10,scoring='accuracy',n_jobs=-1)\n",
    "SGD_grid.fit(X_train,y_train)\n",
    "SGD_grid.fit(X_train,y_train)\n",
    "print('Best score: %0.3f'% SGD_grid.best_score_)\n",
    "print('Best parameters set:')\n",
    "best_parameters = SGD_grid.best_estimator_.get_params()\n",
    "for param_name in sorted(parameters.keys()):\n",
    "    print(param_name,best_parameters[param_name])\n",
    "#for score in scores:\n",
    "    #SGD_grid=GridSearchCV(SGDClassifier(loss='log',max_iter=10),parameters,cv=5,scoring='%s_macro' %score)\n",
    "    #SGD_grid.fit(X_train,y_train)\n",
    "    #print('Best score: %0.3f'% SGD_grid.best_score_)\n",
    "    #print('Best parameters set:')\n",
    "    #best_parameters = SGD_grid.best_estimator_.get_params()\n",
    "    #for param_name in sorted(parameters.keys()):\n",
    "          #print(param_name,best_parameters[param_name])"
   ]
  },
  {
   "cell_type": "code",
   "execution_count": null,
   "metadata": {},
   "outputs": [],
   "source": [
    "clf_SGD=SGDClassifier(max_iter=10,class_weight='balanced',loss='log',penalty='elasticnet',alpha=0.0001)\n",
    "clf_SGD.fit(X_train,y_train)\n",
    "pred_SGD=clf_SGD.predict(X_test)"
   ]
  },
  {
   "cell_type": "code",
   "execution_count": 5,
   "metadata": {},
   "outputs": [],
   "source": [
    "target_names=['CORE','NON-CORE', 'Rejected']\n",
    "target_labels=[2,1,0]\n",
    "#report= classification_report(y_test,pred_SGD,labels=target_labels,target_names=target_names)"
   ]
  },
  {
   "cell_type": "code",
   "execution_count": null,
   "metadata": {},
   "outputs": [],
   "source": [
    "print (report)"
   ]
  },
  {
   "cell_type": "code",
   "execution_count": null,
   "metadata": {},
   "outputs": [],
   "source": [
    "from sklearn.model_selection import validation_curve\n",
    "import matplotlib.pyplot as plt\n",
    "\n",
    "def plot_validation_curve(clf,X_train,Y_train,param_name,param_range,log=True):\n",
    "    #param_range=np.logspace(-6,-2,4)\n",
    "    train_scores, test_scores=validation_curve(clf,X_train,Y_train,param_name=param_name,param_range=param_range,cv=5,scoring='accuracy',n_jobs=-1)\n",
    "    train_scores_mean = np.mean(train_scores, axis=1)\n",
    "    train_scores_std = np.std(train_scores, axis=1)\n",
    "    test_scores_mean = np.mean(test_scores, axis=1)\n",
    "    test_scores_std = np.std(test_scores, axis=1)\n",
    "    \n",
    "    plt.title(\"Validation Curve with SGD classifier\")\n",
    "    plt.xlabel('alpha')\n",
    "    plt.ylabel(\"Score\")\n",
    "    plt.ylim(0.3, 1.0)\n",
    "    lw = 2\n",
    "    \n",
    "    if log == True:\n",
    "        plt.semilogx(param_range, test_scores_mean, label=\"Cross-validation score\",\n",
    "                     color=\"navy\", lw=lw)\n",
    "        plt.semilogx(param_range, train_scores_mean, label=\"Training score\",\n",
    "             color=\"darkorange\", lw=lw)\n",
    "    else:\n",
    "        plt.plot(param_range, test_scores_mean, label=\"Cross-validation score\",\n",
    "                     color=\"navy\", lw=lw)\n",
    "        plt.plot(param_range, train_scores_mean, label=\"Training score\",\n",
    "             color=\"darkorange\", lw=lw)\n",
    "    \n",
    "    plt.fill_between(param_range, train_scores_mean - train_scores_std,\n",
    "                 train_scores_mean + train_scores_std, alpha=0.2,\n",
    "                 color=\"darkorange\", lw=lw)\n",
    "    plt.fill_between(param_range, test_scores_mean - test_scores_std,\n",
    "                 test_scores_mean + test_scores_std, alpha=0.2,\n",
    "                 color=\"navy\", lw=lw)\n",
    "    plt.legend(loc=\"best\")\n"
   ]
  },
  {
   "cell_type": "code",
   "execution_count": null,
   "metadata": {},
   "outputs": [],
   "source": [
    "alpha_range=np.logspace(-6,-2,4)\n",
    "plt.figure()\n",
    "plot_validation_curve(clf_SGD,X_train,y_train,'alpha',alpha_range,log=True)\n",
    "plt.show()"
   ]
  },
  {
   "cell_type": "code",
   "execution_count": 6,
   "metadata": {},
   "outputs": [
    {
     "name": "stdout",
     "output_type": "stream",
     "text": [
      "             precision    recall  f1-score   support\n",
      "\n",
      "       CORE       0.61      0.55      0.58       813\n",
      "   NON-CORE       0.29      0.21      0.24       780\n",
      "   Rejected       0.91      0.94      0.93      9117\n",
      "\n",
      "avg / total       0.84      0.86      0.85     10710\n",
      "\n"
     ]
    }
   ],
   "source": [
    "from sklearn.svm import LinearSVC\n",
    "\n",
    "SVC_clf = LinearSVC(C=0.175,class_weight='balanced')\n",
    "SVC_clf.fit(X_train, y_train)\n",
    "SVC_pred= SVC_clf.predict(X_test)\n",
    "report_SVC= classification_report(y_test,SVC_pred,labels=target_labels,target_names=target_names)\n",
    "print (report_SVC)"
   ]
  },
  {
   "cell_type": "code",
   "execution_count": null,
   "metadata": {},
   "outputs": [],
   "source": [
    "C_range=np.linspace(0.2,0.5,5)\n",
    "plt.figure()\n",
    "plot_validation_curve(LinearSVC(),X_train,y_train,'C',C_range,log=False)\n",
    "plt.show()"
   ]
  },
  {
   "cell_type": "code",
   "execution_count": 7,
   "metadata": {},
   "outputs": [],
   "source": [
    "from sklearn.metrics import confusion_matrix\n",
    "import matplotlib.pyplot as plt\n",
    "\n",
    "SVC_cm = confusion_matrix(y_test,SVC_pred,labels=[2,1,0])\n",
    "#SGD_cm = confusion_matrix(y_test,pred_SGD,labels=[2,1,0])\n"
   ]
  },
  {
   "cell_type": "code",
   "execution_count": 8,
   "metadata": {},
   "outputs": [],
   "source": [
    "import itertools\n",
    "\n",
    "def plot_confusion_matrix(cm, classes,normalize=False,title='confusion matrix',cmap=plt.cm.Purples):\n",
    "    if normalize:\n",
    "        cm=cm.astype('float')/cm.sum(axis=1)[:,np.newaxis]\n",
    "        print (\"Normalised confusion matrix\")\n",
    "    else:\n",
    "        print (\"Confusion matrix\")\n",
    "    print (cm)\n",
    "    \n",
    "    plt.imshow(cm,interpolation='nearest',cmap=cmap)\n",
    "    plt.title(title)\n",
    "    plt.colorbar()\n",
    "    tick_marks=np.arange(len(classes))\n",
    "    plt.xticks(tick_marks,classes,rotation=45)\n",
    "    plt.yticks(tick_marks,classes)\n",
    "    \n",
    "    fmt='.2f' if normalize else 'd'\n",
    "    thresh = cm.max()/2\n",
    "    for i, j in itertools.product(range(cm.shape[0]),range(cm.shape[1])):\n",
    "        plt.text(j,i,format(cm[i,j],fmt),horizontalalignment='center',color='white' if cm[i,j]>thresh else \"black\")\n",
    "        \n",
    "    plt.tight_layout()\n",
    "    plt.ylabel('True label')\n",
    "    plt.xlabel('Predicted label')"
   ]
  },
  {
   "cell_type": "code",
   "execution_count": 9,
   "metadata": {},
   "outputs": [
    {
     "name": "stdout",
     "output_type": "stream",
     "text": [
      "Normalised confusion matrix\n",
      "[[0.54735547 0.0897909  0.36285363]\n",
      " [0.12051282 0.21282051 0.66666667]\n",
      " [0.02029176 0.03762202 0.94208621]]\n"
     ]
    },
    {
     "data": {
      "image/png": "[encoded data removed]",
      "text/plain": [
       "<Figure size 432x288 with 2 Axes>"
      ]
     },
     "metadata": {},
     "output_type": "display_data"
    }
   ],
   "source": [
    "target_names=['CORE','NON-CORE', 'Rejected']\n",
    "plt.figure()\n",
    "plot_confusion_matrix(SVC_cm,classes=target_names,normalize=True,title='Normalised confusion matrix')\n",
    "#plot_confusion_matrix(SVC_cm,classes=target_names,normalize=False,title='Normalised confusion matrix')\n",
    "plt.show()"
   ]
  },
  {
   "cell_type": "code",
   "execution_count": null,
   "metadata": {},
   "outputs": [],
   "source": [
    "plt.figure()\n",
    "plot_confusion_matrix(SGD_cm,classes=target_names,normalize=True,title='Normalised confusion matrix')\n",
    "plt.show()"
   ]
  },
  {
   "cell_type": "code",
   "execution_count": null,
   "metadata": {},
   "outputs": [],
   "source": []
  }
 ],
 "metadata": {
  "kernelspec": {
   "display_name": "Python 3",
   "language": "python",
   "name": "python3"
  },
  "language_info": {
   "codemirror_mode": {
    "name": "ipython",
    "version": 3
   },
   "file_extension": ".py",
   "mimetype": "text/x-python",
   "name": "python",
   "nbconvert_exporter": "python",
   "pygments_lexer": "ipython3",
   "version": "3.6.3"
  }
 },
 "nbformat": 4,
 "nbformat_minor": 2
}
