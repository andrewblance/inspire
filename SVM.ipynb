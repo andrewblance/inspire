{
 "cells": [
  {
   "cell_type": "code",
   "execution_count": 15,
   "metadata": {},
   "outputs": [],
   "source": [
    "import matplotlib.pyplot as plt\n",
    "import numpy as np\n",
    "import pandas as pd\n",
    "import json\n",
    "\n",
    "from sklearn.utils import class_weight\n",
    "from sklearn.metrics import classification_report\n",
    "from sklearn.linear_model import SGDClassifier\n",
    "from sklearn.svm import SVC\n",
    "from sklearn.metrics import confusion_matrix\n",
    "from sklearn.model_selection import GridSearchCV\n",
    "\n",
    "import itertools"
   ]
  },
  {
   "cell_type": "code",
   "execution_count": 3,
   "metadata": {},
   "outputs": [],
   "source": [
    "inspire=pd.read_pickle('bigREFncgrams.pkl')\n",
    "#np.array(pd.read_pickle('/Users/parisa/Documents/inspires_project/inspire/ReferenceReader/arxiv_labels.pkl'))\n",
    "#f_refs=\n",
    "#np.array(pd.read_pickle('/Users/parisa/Documents/inspires_project/inspire/ReferenceReader/arxiv_ref_fracs.pkl'))\n",
    "#keywords=\n",
    "#np.array(pd.read_pickle('/Users/parisa/Documents/inspires_project/inspire/ReferenceReader/arxiv_key_freq.pkl'))"
   ]
  },
  {
   "cell_type": "code",
   "execution_count": null,
   "metadata": {},
   "outputs": [],
   "source": []
  },
  {
   "cell_type": "code",
   "execution_count": 4,
   "metadata": {},
   "outputs": [],
   "source": [
    "#targets=np.reshape(labels,(len(labels),1))\n",
    "#combi=np.concatenate((keywords,f_refs,targets),axis=1)\n",
    "#headers=np.array(['Bigrams','Trigrams','Quadgrams','f_core','f_noncore','class'])\n",
    "#inspire=pd.DataFrame(combi,columns=headers)"
   ]
  },
  {
   "cell_type": "code",
   "execution_count": 5,
   "metadata": {},
   "outputs": [
    {
     "data": {
      "text/html": [
       "<div>\n",
       "<style scoped>\n",
       "    .dataframe tbody tr th:only-of-type {\n",
       "        vertical-align: middle;\n",
       "    }\n",
       "\n",
       "    .dataframe tbody tr th {\n",
       "        vertical-align: top;\n",
       "    }\n",
       "\n",
       "    .dataframe thead th {\n",
       "        text-align: right;\n",
       "    }\n",
       "</style>\n",
       "<table border=\"1\" class=\"dataframe\">\n",
       "  <thead>\n",
       "    <tr style=\"text-align: right;\">\n",
       "      <th></th>\n",
       "      <th>Text</th>\n",
       "      <th>NC score</th>\n",
       "      <th>core refs</th>\n",
       "      <th>non-core refs</th>\n",
       "      <th>Category</th>\n",
       "      <th>Result</th>\n",
       "    </tr>\n",
       "  </thead>\n",
       "  <tbody>\n",
       "    <tr>\n",
       "      <th>0</th>\n",
       "      <td>Nucleation of symmetric domains in the coupled...</td>\n",
       "      <td>0</td>\n",
       "      <td>0.0</td>\n",
       "      <td>0.000</td>\n",
       "      <td>cond-mat.soft</td>\n",
       "      <td>0</td>\n",
       "    </tr>\n",
       "    <tr>\n",
       "      <th>1</th>\n",
       "      <td>Radial penetration of flux surface shaping in ...</td>\n",
       "      <td>0</td>\n",
       "      <td>0.0</td>\n",
       "      <td>0.000</td>\n",
       "      <td>physics.plasm-ph</td>\n",
       "      <td>0</td>\n",
       "    </tr>\n",
       "    <tr>\n",
       "      <th>2</th>\n",
       "      <td>From optimal transportation to optimal telepor...</td>\n",
       "      <td>0</td>\n",
       "      <td>0.0</td>\n",
       "      <td>0.000</td>\n",
       "      <td>math.PR</td>\n",
       "      <td>0</td>\n",
       "    </tr>\n",
       "    <tr>\n",
       "      <th>3</th>\n",
       "      <td>A multi-wavelength study of star formation act...</td>\n",
       "      <td>0</td>\n",
       "      <td>0.0</td>\n",
       "      <td>0.336</td>\n",
       "      <td>astro-ph.GA</td>\n",
       "      <td>0</td>\n",
       "    </tr>\n",
       "    <tr>\n",
       "      <th>4</th>\n",
       "      <td>Critical window for connectivity in the Config...</td>\n",
       "      <td>0</td>\n",
       "      <td>0.0</td>\n",
       "      <td>0.000</td>\n",
       "      <td>math.PR</td>\n",
       "      <td>0</td>\n",
       "    </tr>\n",
       "  </tbody>\n",
       "</table>\n",
       "</div>"
      ],
      "text/plain": [
       "                                                Text NC score  core refs  \\\n",
       "0  Nucleation of symmetric domains in the coupled...        0        0.0   \n",
       "1  Radial penetration of flux surface shaping in ...        0        0.0   \n",
       "2  From optimal transportation to optimal telepor...        0        0.0   \n",
       "3  A multi-wavelength study of star formation act...        0        0.0   \n",
       "4  Critical window for connectivity in the Config...        0        0.0   \n",
       "\n",
       "   non-core refs          Category  Result  \n",
       "0          0.000     cond-mat.soft       0  \n",
       "1          0.000  physics.plasm-ph       0  \n",
       "2          0.000           math.PR       0  \n",
       "3          0.336       astro-ph.GA       0  \n",
       "4          0.000           math.PR       0  "
      ]
     },
     "execution_count": 5,
     "metadata": {},
     "output_type": "execute_result"
    }
   ],
   "source": [
    "inspire=inspire.reindex(np.random.permutation(inspire.index))\n",
    "inspire=inspire.reset_index(drop=True)\n",
    "inspire.head()"
   ]
  },
  {
   "cell_type": "code",
   "execution_count": 6,
   "metadata": {},
   "outputs": [],
   "source": [
    "training_samples = 3 * len(inspire) // 5\n",
    "validation_samples = len(inspire) // 5\n",
    "\n",
    "inspire_train = inspire[:training_samples]\n",
    "inspire_val = inspire[training_samples:training_samples + validation_samples]\n",
    "inspire_test = inspire[training_samples + validation_samples:]\n"
   ]
  },
  {
   "cell_type": "code",
   "execution_count": 7,
   "metadata": {},
   "outputs": [
    {
     "data": {
      "text/plain": [
       "GridSearchCV(cv=3, error_score='raise',\n",
       "       estimator=SVC(C=1.0, cache_size=200, class_weight='balanced', coef0=0.0,\n",
       "  decision_function_shape='ovr', degree=3, gamma='auto', kernel='rbf',\n",
       "  max_iter=-1, probability=True, random_state=None, shrinking=True,\n",
       "  tol=0.001, verbose=False),\n",
       "       fit_params=None, iid=True, n_jobs=-1,\n",
       "       param_grid={'C': array([0.1  , 0.575, 1.05 , 1.525, 2.   ])},\n",
       "       pre_dispatch='2*n_jobs', refit=True, return_train_score='warn',\n",
       "       scoring='accuracy', verbose=0)"
      ]
     },
     "execution_count": 7,
     "metadata": {},
     "output_type": "execute_result"
    }
   ],
   "source": [
    "#SVC classifier \n",
    "c_range=np.linspace(0.1,2,5)\n",
    "parameters={'C':(c_range)\n",
    "           #'decision_function_shape':('ovr','ovo'),\n",
    "           }\n",
    "SVC_clf = GridSearchCV(SVC(class_weight='balanced',probability=True),parameters,cv=3,scoring='accuracy',n_jobs=-1)\n",
    "x_train = inspire_train[['core refs','non-core refs']]\n",
    "y_train = inspire_train['Result']\n",
    "SVC_clf.fit(x_train,y_train)"
   ]
  },
  {
   "cell_type": "code",
   "execution_count": 8,
   "metadata": {},
   "outputs": [
    {
     "name": "stdout",
     "output_type": "stream",
     "text": [
      "Best score: 0.887\n",
      "Best parameters set:\n",
      "C 0.1\n"
     ]
    }
   ],
   "source": [
    "print('Best score: %0.3f'% SVC_clf.best_score_)\n",
    "print('Best parameters set:')\n",
    "best_parameters = SVC_clf.best_estimator_.get_params()\n",
    "for param_name in sorted(parameters.keys()):\n",
    "    print(param_name,best_parameters[param_name])"
   ]
  },
  {
   "cell_type": "code",
   "execution_count": 9,
   "metadata": {},
   "outputs": [
    {
     "name": "stdout",
     "output_type": "stream",
     "text": [
      "             precision    recall  f1-score   support\n",
      "\n",
      "       CORE       0.97      0.91      0.94      8131\n",
      "   NON-CORE       0.40      0.70      0.51       815\n",
      "   Rejected       0.92      0.85      0.88      1401\n",
      "\n",
      "avg / total       0.92      0.88      0.90     10347\n",
      "\n"
     ]
    }
   ],
   "source": [
    "#test classifier on validation data\n",
    "x_val = inspire_val[['core refs','non-core refs']]\n",
    "y_val = inspire_val['Result']\n",
    "SVC_pred=SVC_clf.predict(x_val)\n",
    "\n",
    "target_names=['CORE','NON-CORE', 'Rejected']\n",
    "target_labels=[0,1,2]\n",
    "report_SVC= classification_report(y_val,SVC_pred,labels=target_labels,target_names=target_names)\n",
    "print (report_SVC)"
   ]
  },
  {
   "cell_type": "code",
   "execution_count": 10,
   "metadata": {},
   "outputs": [],
   "source": [
    "def plot_confusion_matrix(cm, classes,normalize=False,title='confusion matrix',cmap=plt.cm.Purples):\n",
    "    if normalize:\n",
    "        cm=cm.astype('float')/cm.sum(axis=1)[:,np.newaxis]\n",
    "        print (\"Normalised confusion matrix\")\n",
    "    else:\n",
    "        print (\"Confusion matrix\")\n",
    "    print (cm)\n",
    "    \n",
    "    plt.imshow(cm,interpolation='nearest',cmap=cmap)\n",
    "    plt.title(title)\n",
    "    plt.colorbar()\n",
    "    tick_marks=np.arange(len(classes))\n",
    "    plt.xticks(tick_marks,classes,rotation=45)\n",
    "    plt.yticks(tick_marks,classes)\n",
    "    \n",
    "    fmt='.2f' if normalize else 'd'\n",
    "    thresh = cm.max()/2\n",
    "    for i, j in itertools.product(range(cm.shape[0]),range(cm.shape[1])):\n",
    "        plt.text(j,i,format(cm[i,j],fmt),horizontalalignment='center',color='white' if cm[i,j]>thresh else \"black\")\n",
    "        \n",
    "    plt.tight_layout()\n",
    "    plt.ylabel('True label')\n",
    "    plt.xlabel('Predicted label') "
   ]
  },
  {
   "cell_type": "code",
   "execution_count": 13,
   "metadata": {},
   "outputs": [],
   "source": [
    "SVC_cm = confusion_matrix(y_val,SVC_pred.astype(np.int),labels=[2,1,0])"
   ]
  },
  {
   "cell_type": "code",
   "execution_count": 14,
   "metadata": {},
   "outputs": [
    {
     "name": "stdout",
     "output_type": "stream",
     "text": [
      "Normalised confusion matrix\n",
      "[[0.84653819 0.09921485 0.05424697]\n",
      " [0.08834356 0.69693252 0.21472393]\n",
      " [0.00368958 0.08658222 0.9097282 ]]\n"
     ]
    },
    {
     "data": {
      "image/png": "[encoded data removed]",
      "text/plain": [
       "<Figure size 432x288 with 2 Axes>"
      ]
     },
     "metadata": {},
     "output_type": "display_data"
    }
   ],
   "source": [
    "plt.figure()\n",
    "plot_confusion_matrix(SVC_cm,classes=target_names,normalize=True,title='Normalised confusion matrix')\n",
    "#plot_confusion_matrix(SVC_cm,classes=target_names,normalize=False,title='Normalised confusion matrix')\n",
    "plt.show()"
   ]
  },
  {
   "cell_type": "code",
   "execution_count": null,
   "metadata": {},
   "outputs": [],
   "source": []
  }
 ],
 "metadata": {
  "kernelspec": {
   "display_name": "Python 3",
   "language": "python",
   "name": "python3"
  },
  "language_info": {
   "codemirror_mode": {
    "name": "ipython",
    "version": 3
   },
   "file_extension": ".py",
   "mimetype": "text/x-python",
   "name": "python",
   "nbconvert_exporter": "python",
   "pygments_lexer": "ipython3",
   "version": "3.6.3"
  }
 },
 "nbformat": 4,
 "nbformat_minor": 2
}
